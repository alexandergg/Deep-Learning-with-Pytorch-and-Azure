{
 "cells": [
  {
   "cell_type": "markdown",
   "metadata": {},
   "source": [
    "![](images/logoai.png)\n",
    "![](images/globaai.jpg)"
   ]
  },
  {
   "cell_type": "markdown",
   "metadata": {},
   "source": [
    "### The Origin of MNIST Handwritten Digit Dataset\n",
    "The MNIST Handwritten Digit Dataset is contributed by Yann LeCun, Corinna Cortes and Christopher Burges to train a machine learning model to solve the issue of handwritten digit classification. Each image is a 28 by 28 pixel square (784 pixels total). This dataset contains 60,000 training images and 10,000 testing images in total for 10 different digits (0 to 10)."
   ]
  },
  {
   "cell_type": "markdown",
   "metadata": {},
   "source": [
    "### What is Pytorch?\n",
    "PyTorch is an open-source deep learning library for Python, based on Torch, used for applications such as natural language processing, image recognition, image classification, text processing, etc. It is primarily developed by Facebook’s artificial-intelligence research group. PyTorch provides two high-level features:\n",
    "- Tensor computation (like NumPy) with strong GPU acceleration\n",
    "- Deep neural networks built on a tape-based autodiff system"
   ]
  },
  {
   "cell_type": "markdown",
   "metadata": {},
   "source": [
    "### What is Azure Notebook?\n",
    "Azure Notebooks is a free service for anyone to develop and run code in their browser using Jupyter. Jupyter is an open source project that enables combing markdown prose, executable code, and graphics onto a single canvas. Azure Notebooks currently supports Python 2, Python 3, R, F# and their popular packages. All the developed code and used data will be stored on the cloud."
   ]
  },
  {
   "cell_type": "markdown",
   "metadata": {},
   "source": [
    "#### Step 1: Log in to Microsoft Azure Notebook:\n",
    "Go to https://notebooks.azure.com/, login with your credential. After you successfully login, the screen will be automatically jumped to the figure as shown below.\n",
    "![](images/aznotebooks1.png)"
   ]
  },
  {
   "cell_type": "markdown",
   "metadata": {},
   "source": [
    "Click on “My Projects” on the task-bar. Then, create a new project by pressing the button “New Project”.\n",
    "Fill in the project name. After that, click the button “Create”.\n",
    "A new folder for this project is created.\n",
    "![](images/aznotebooks2.png)"
   ]
  },
  {
   "cell_type": "markdown",
   "metadata": {},
   "source": [
    "![](images/aznotebooks3.png)"
   ]
  },
  {
   "cell_type": "markdown",
   "metadata": {},
   "source": [
    "#### Step 2: Create new notebook named “demo”\n",
    "Click on the button “+”, choose “Notebook”.\n",
    "Fill in the Notebook Name as “Demo”. Choose “Python 3.6” and click button “New”.\n",
    "A new notebook is created now for this project.\n",
    "![](images/aznotebooks4.png)"
   ]
  },
  {
   "cell_type": "markdown",
   "metadata": {},
   "source": [
    "# Digit Recognition Task\n",
    "If this is your first time running a notebook - welcome!! Notebooks are awesome because they let us play around and experiment\n",
    "with code with near-instant feedback. Some pointers:\n",
    "1. To execute a cell, click on it and hit SHIFT-Enter\n",
    "2. Once something is executed, the variables are in memory - inspect them!\n",
    "\n",
    "## Getting Started\n",
    "This first cell imports the necessary libraries so we can get started:\n",
    "1. Numpy — A fundamental package for scientific computing with Python. It contains a powerful N-dimensional array object, sophisticated (broadcasting) functions, tools for integrating C/C++ and Fortran code and useful linear algebra, Fourier transform, and random number capabilities.\n",
    "2. Matplotlib — A Python 2D plotting library which produces publication quality figures in a variety of hard copy formats and interactive environments across platforms.\n",
    "3. Torch — An open-source machine learning library, a scientific computing framework, and a script language based on the Lua programming language.\n",
    "4. Torchvision — A package consists of popular datasets, model architectures, and common image transformations for computer vision.\n",
    "5. Time — A module provides various time-related functions."
   ]
  },
  {
   "cell_type": "code",
   "execution_count": 71,
   "metadata": {},
   "outputs": [],
   "source": [
    "import numpy as np\n",
    "import torch\n",
    "import torchvision\n",
    "import torch.onnx as onnx\n",
    "import torch.nn.functional as F\n",
    "import matplotlib.pyplot as plt\n",
    "\n",
    "from time import time\n",
    "from torch import nn, optim\n",
    "from collections import defaultdict\n",
    "from torch.autograd import Variable\n",
    "from torch.utils.data import DataLoader\n",
    "from torchvision import datasets, transforms"
   ]
  },
  {
   "cell_type": "markdown",
   "metadata": {},
   "source": [
    "Let's also check to make sure torch thinks we can use the GPU."
   ]
  },
  {
   "cell_type": "code",
   "execution_count": 72,
   "metadata": {},
   "outputs": [
    {
     "data": {
      "text/plain": [
       "True"
      ]
     },
     "execution_count": 72,
     "metadata": {},
     "output_type": "execute_result"
    }
   ],
   "source": [
    "torch.cuda.is_available()"
   ]
  },
  {
   "cell_type": "code",
   "execution_count": 73,
   "metadata": {},
   "outputs": [
    {
     "name": "stdout",
     "output_type": "stream",
     "text": [
      "Using cuda device\n"
     ]
    }
   ],
   "source": [
    "no_cuda=False\n",
    "use_cuda = not no_cuda and torch.cuda.is_available()\n",
    "device = torch.device(\"cuda\" if use_cuda else \"cpu\")\n",
    "print('Using {} device'.format(device))"
   ]
  },
  {
   "cell_type": "markdown",
   "metadata": {},
   "source": [
    "This should be True. If you see False here, something is wrong and torch isn't going to be able to run on the GPU.\n",
    "\n",
    "Possible causes to seeing False at this point:\n",
    "\n",
    "You don't have a GPU (see above with regards to the nvidia-smi check)\n",
    "You have a CPU-only version of pytorch installed, in which case you need to install the gpu enabled version\n",
    "You don't have the CUDA library\n",
    "You don't have the CUDA library path included on either the PATH or LD_LIBRARY_PATH variables\n",
    "You have the wrong version of CUDA for the version of pytorch\n",
    "Probably other possiblities"
   ]
  },
  {
   "cell_type": "markdown",
   "metadata": {},
   "source": [
    " ## Data!\n",
    " Without data we really can't do anything with machine learning. At this point we have our sharp question **can we predict a digit given a 28x28 vector of numbers?**\n",
    " \n",
    " Once that is all squared away we need to take a look at our data. The next cell is a helper function that visualizes the the digits (a sanity check).\n"
   ]
  },
  {
   "cell_type": "markdown",
   "metadata": {},
   "source": [
    "### But what are tensors? And how do they relate to machine learning?"
   ]
  },
  {
   "cell_type": "markdown",
   "metadata": {},
   "source": [
    "It is nothing more than a simple mathematical concept. Tensors are mathematical objects that generalize scalars, vectors and matrices to higher dimensions. If you are familiar with basic linear algebra, you should have no trouble understanding what tensors are. In short, a single-dimensional tensor can be represented as a vector. A two-dimensional tensor, as you may have guessed, can be represented as a matrix.\n",
    "\n",
    "Even though it’s easy to generalize tensors as multi-dimensional matrices ranging from zero to N dimensions, it is important to remember that tensors are dynamic. That is, tensors will transform when interacting with other mathematical entities. Matrices, on the other hand, don’t always have this property."
   ]
  },
  {
   "cell_type": "markdown",
   "metadata": {},
   "source": [
    "![](images/tensor.jpeg)"
   ]
  },
  {
   "cell_type": "markdown",
   "metadata": {},
   "source": [
    "Tensor operations are simple. Consider the following tensors:"
   ]
  },
  {
   "cell_type": "code",
   "execution_count": 74,
   "metadata": {},
   "outputs": [
    {
     "data": {
      "text/plain": [
       "3"
      ]
     },
     "execution_count": 74,
     "metadata": {},
     "output_type": "execute_result"
    }
   ],
   "source": [
    "a = np.array([[[4,1,2],\n",
    "               [3,5,2],\n",
    "               [1,6,7]],\n",
    "               [[2,1,0],\n",
    "               [5,4,3],\n",
    "               [6,8,9]],\n",
    "               [[1,2,3],\n",
    "               [2,3,4],\n",
    "               [5,5,5]]])\n",
    "\n",
    "b = np.array([[[1,1,1],\n",
    "               [2,2,2],\n",
    "               [3,3,3]],\n",
    "               [[4,4,4],\n",
    "               [5,5,5],\n",
    "               [6,6,6]],\n",
    "               [[7,7,7],\n",
    "               [8,8,8],\n",
    "               [9,9,9]]])\n",
    "a.ndim"
   ]
  },
  {
   "cell_type": "code",
   "execution_count": 75,
   "metadata": {},
   "outputs": [
    {
     "name": "stdout",
     "output_type": "stream",
     "text": [
      "[[[ 5  2  3]\n",
      "  [ 5  7  4]\n",
      "  [ 4  9 10]]\n",
      "\n",
      " [[ 6  5  4]\n",
      "  [10  9  8]\n",
      "  [12 14 15]]\n",
      "\n",
      " [[ 8  9 10]\n",
      "  [10 11 12]\n",
      "  [14 14 14]]]\n"
     ]
    }
   ],
   "source": [
    "print(a+b)"
   ]
  },
  {
   "cell_type": "markdown",
   "metadata": {},
   "source": [
    "### Where will we use Tensor in this LAB?"
   ]
  },
  {
   "cell_type": "markdown",
   "metadata": {},
   "source": [
    "Remember, most machines cannot learn without having any data. And modern data is often multi-dimensional. Tensors can play an important role in ML by encoding multi-dimensional data. \n",
    "\n",
    "For example in our case, a picture is generally represented by three fields: width, height and depth (color).\n",
    "\n",
    "It makes total sense to encode it as a 3D tensor. However, more than often we are dealing with tens of thousands of pictures. Hence this is where the forth field, sample size comes into play. A series of images, such as the famous MNIST dataset, can be easily stored in a 4D tensor in Tensorflow. This representation allows problems involving big data to be solved easily."
   ]
  },
  {
   "cell_type": "markdown",
   "metadata": {},
   "source": [
    "### Define the pre-processing methods"
   ]
  },
  {
   "cell_type": "markdown",
   "metadata": {},
   "source": [
    "Image transformations are applied onto the images so they can be fed into the model later for training or testing and improve the model accuracy.\n",
    "\n",
    "- transforms.RandomRotation(10) — Rotate the image in the range of [-10, 10] degrees randomly.\n",
    "- transforms.ToTensor() — Convert theimage to tensor.\n",
    "- transforms.Normalize((0.5,), (0.5,)) — Normalize the tensor image with mean and standard deviation. In this case, mean=0.5 and std=0.5 This will normalize the image in the range [-1,1]. For example, the minimum value 0 will be converted to (0-0.5)/0.5=-1, the maximum value of 1 will be converted to (1-0.5)/0.5=1."
   ]
  },
  {
   "cell_type": "code",
   "execution_count": 76,
   "metadata": {},
   "outputs": [],
   "source": [
    "transform = transforms.Compose([transforms.RandomRotation(10), \n",
    "                                transforms.ToTensor(),\n",
    "                                transforms.Normalize((0.5,), (0.5,))\n",
    "                              ])"
   ]
  },
  {
   "cell_type": "markdown",
   "metadata": {},
   "source": [
    "### Preparation of training and testing dataset and dataloader"
   ]
  },
  {
   "cell_type": "markdown",
   "metadata": {},
   "source": [
    "The operations of these codes are:\n",
    "Download the MNIST handwritten digit recognition dataset into the “train” and “test” folders.\n",
    "Generate the train and test datasets by inputting the downloaded images and transforming them based on defined pre-processing methods in the previous step.\n",
    "Define the train and test loaders by setting 64 images will be fed into the model in each epoch randomly for training and non-randomly for testing."
   ]
  },
  {
   "cell_type": "markdown",
   "metadata": {},
   "source": [
    "The next cell downloads the standard digit dataset (called MNIST). The `transform` and `target_transform` parts of this call add some conversion steps to make the data more suitable for the models we will try."
   ]
  },
  {
   "cell_type": "code",
   "execution_count": 77,
   "metadata": {},
   "outputs": [],
   "source": [
    "trainset = datasets.MNIST('train', download=True, train=True, transform=transform)\n",
    "testset = datasets.MNIST('test', download=True, train=False, transform=transform)\n",
    "trainloader = torch.utils.data.DataLoader(trainset, batch_size=64, shuffle=True)\n",
    "testloader = torch.utils.data.DataLoader(testset, batch_size=64, shuffle=False)"
   ]
  },
  {
   "cell_type": "markdown",
   "metadata": {},
   "source": [
    "Here is our sanity check!"
   ]
  },
  {
   "cell_type": "code",
   "execution_count": 78,
   "metadata": {},
   "outputs": [
    {
     "data": {
      "text/plain": [
       "Dataset MNIST\n",
       "    Number of datapoints: 60000\n",
       "    Root location: train\n",
       "    Split: Train\n",
       "    StandardTransform\n",
       "Transform: Compose(\n",
       "               RandomRotation(degrees=(-10, 10), resample=False, expand=False)\n",
       "               ToTensor()\n",
       "               Normalize(mean=(0.5,), std=(0.5,))\n",
       "           )"
      ]
     },
     "execution_count": 78,
     "metadata": {},
     "output_type": "execute_result"
    }
   ],
   "source": [
    "trainset"
   ]
  },
  {
   "cell_type": "markdown",
   "metadata": {},
   "source": [
    "### Data Visualization"
   ]
  },
  {
   "cell_type": "markdown",
   "metadata": {},
   "source": [
    "The images can be reconstructed and plotted by loading one batch of images."
   ]
  },
  {
   "cell_type": "code",
   "execution_count": 79,
   "metadata": {},
   "outputs": [
    {
     "name": "stdout",
     "output_type": "stream",
     "text": [
      "torch.Size([64, 1, 28, 28])\n",
      "torch.Size([64])\n"
     ]
    }
   ],
   "source": [
    "dataiter = iter(trainloader)\n",
    "images, labels = dataiter.next()\n",
    "print(images.shape)\n",
    "print(labels.shape)"
   ]
  },
  {
   "cell_type": "markdown",
   "metadata": {},
   "source": [
    "As you can see, the shape of the image is (64, 1, 28, 28). For each batch except the last batch, there are 64 grey-scale images. Each image contains 1 channel (grey-scale), 28 pixels of width and 28 pixels of height."
   ]
  },
  {
   "cell_type": "markdown",
   "metadata": {},
   "source": [
    "Print the unique elements of our dataset:"
   ]
  },
  {
   "cell_type": "code",
   "execution_count": 80,
   "metadata": {},
   "outputs": [
    {
     "name": "stdout",
     "output_type": "stream",
     "text": [
      "[0 1 2 3 4 5 6 7 8 9]\n"
     ]
    }
   ],
   "source": [
    "y_unq = np.unique(labels)\n",
    "print(np.unique(labels))"
   ]
  },
  {
   "cell_type": "code",
   "execution_count": 81,
   "metadata": {},
   "outputs": [],
   "source": [
    "labellist=[]\n",
    "for images, labels in trainloader:\n",
    "    labellist.append(labels[0].item())"
   ]
  },
  {
   "cell_type": "code",
   "execution_count": 82,
   "metadata": {},
   "outputs": [
    {
     "data": {
      "image/png": "[encoded data removed]",
      "text/plain": [
       "<Figure size 432x288 with 1 Axes>"
      ]
     },
     "metadata": {
      "needs_background": "light"
     },
     "output_type": "display_data"
    }
   ],
   "source": [
    "bin_edges = np.concatenate([y_unq, y_unq[[-1]] + 1])\n",
    "plt.hist(labellist, bins=bin_edges)\n",
    "plt.xlabel('Class label')\n",
    "plt.ylabel('Count')\n",
    "plt.title('Training label distribution')\n",
    "plt.show()"
   ]
  },
  {
   "cell_type": "markdown",
   "metadata": {},
   "source": [
    "### Plot the images with Matplotlib library."
   ]
  },
  {
   "cell_type": "code",
   "execution_count": 83,
   "metadata": {},
   "outputs": [
    {
     "data": {
      "image/png": "[encoded data removed]",
      "text/plain": [
       "<Figure size 432x288 with 30 Axes>"
      ]
     },
     "metadata": {
      "needs_background": "light"
     },
     "output_type": "display_data"
    }
   ],
   "source": [
    "figure = plt.figure()\n",
    "num_of_images = 30\n",
    "for index in range(1, num_of_images + 1):\n",
    "    plt.subplot(6, 10, index)\n",
    "    plt.axis('off')\n",
    "    plt.imshow(images[index].numpy().squeeze(), cmap='gray_r')"
   ]
  },
  {
   "cell_type": "markdown",
   "metadata": {},
   "source": [
    "# Choosing Models and define the network architecture\n",
    "![](images/network.png)\n",
    "Now that we have some data it's time to start picking models we think might work. This is where the science part of data-science comes in: we guess and then check if our assumptions were right. Imagine models like water pipes that have to distribute water to 10 different hoses depending on 784 knobs. These 784 knobs represent the individual pixels in the digit and the 10 hoses at the end represent the actual number (or at least the index of the one with the most water coming out of it). Our job now is to pick the plumbing in between.\n",
    "\n",
    "The next three cells represent three different constructions in an increasingly more complex order:\n",
    "\n",
    "1. The first is a simple linear model,\n",
    "2. The second is a 3 layer Neural Network,\n",
    "3. and the last is a full convolutional neural network\n",
    "\n",
    "While it is out of the scope of this tutorial to fully explain how they work, just imagine they are basically plumbing with internal knobs that have to be tuned to produce the right water pressure at the end to push the most water out of the right\n",
    "index. As you go down each cell the plumbing and corresponding internal knobs just get more complicated."
   ]
  },
  {
   "cell_type": "code",
   "execution_count": 84,
   "metadata": {},
   "outputs": [],
   "source": [
    "class SimpleLinear(nn.Module):\n",
    "    def __init__(self):\n",
    "        super(SimpleLinear, self).__init__()\n",
    "        self.layer1 = nn.Linear(28*28, 10)\n",
    "\n",
    "    def forward(self, x):\n",
    "        x = self.layer1(x)\n",
    "        return F.softmax(x, dim=1)"
   ]
  },
  {
   "cell_type": "code",
   "execution_count": 85,
   "metadata": {},
   "outputs": [],
   "source": [
    "class NeuralNework(nn.Module):\n",
    "    def __init__(self):\n",
    "        super(NeuralNework, self).__init__()\n",
    "        self.layer1 = nn.Linear(28*28, 512)\n",
    "        self.layer2 = nn.Linear(512, 512)\n",
    "        self.output = nn.Linear(512, 10)\n",
    "\n",
    "    def forward(self, x):\n",
    "        x = F.relu(self.layer1(x))\n",
    "        x = F.relu(self.layer2(x))\n",
    "        x = self.output(x)\n",
    "        return F.softmax(x, dim=1)"
   ]
  },
  {
   "cell_type": "code",
   "execution_count": 86,
   "metadata": {},
   "outputs": [],
   "source": [
    "class CNN(nn.Module):\n",
    "    def __init__(self):\n",
    "        super(CNN, self).__init__()\n",
    "        self.conv1 = nn.Conv2d(1, 10, kernel_size=5)\n",
    "        self.conv2 = nn.Conv2d(10, 20, kernel_size=5)\n",
    "        self.conv2_drop = nn.Dropout2d()\n",
    "        self.fc1 = nn.Linear(320, 50)\n",
    "        self.fc2 = nn.Linear(50, 10)\n",
    "\n",
    "    def forward(self, x):\n",
    "        x = x.view(-1, 1, 28, 28)\n",
    "        x = F.relu(F.max_pool2d(self.conv1(x), 2))\n",
    "        x = F.relu(F.max_pool2d(self.conv2_drop(self.conv2(x)), 2))\n",
    "        x = x.view(-1, 320)\n",
    "        x = F.relu(self.fc1(x))\n",
    "        x = F.dropout(x, training=self.training)\n",
    "        x = self.fc2(x)\n",
    "        return F.softmax(x, dim=1)"
   ]
  },
  {
   "cell_type": "code",
   "execution_count": 87,
   "metadata": {},
   "outputs": [
    {
     "name": "stdout",
     "output_type": "stream",
     "text": [
      "CNN(\n",
      "  (conv1): Conv2d(1, 10, kernel_size=(5, 5), stride=(1, 1))\n",
      "  (conv2): Conv2d(10, 20, kernel_size=(5, 5), stride=(1, 1))\n",
      "  (conv2_drop): Dropout2d(p=0.5, inplace=False)\n",
      "  (fc1): Linear(in_features=320, out_features=50, bias=True)\n",
      "  (fc2): Linear(in_features=50, out_features=10, bias=True)\n",
      ")\n"
     ]
    }
   ],
   "source": [
    "model = CNN().to(device)\n",
    "print(model)"
   ]
  },
  {
   "cell_type": "markdown",
   "metadata": {},
   "source": [
    "# Optimizing Model Parameters. \n",
    "## Define the criterion or loss function and optimizer\n",
    "Now that we have some models it's time to optimize the internal parameters to see if it can do a good job at recognizing digits! It turns out there are some parameters that we can give the optimization algorithm to tune how it trains - these are called hyper-parameters. That's what the two variables represent below:"
   ]
  },
  {
   "cell_type": "code",
   "execution_count": 88,
   "metadata": {},
   "outputs": [],
   "source": [
    "learning_rate = 1e-3\n",
    "batch_size = 64\n",
    "epochs = 5"
   ]
  },
  {
   "cell_type": "markdown",
   "metadata": {},
   "source": [
    "The `learning_rate` basically specifies how fast the algorithm will learn the model parameters. Right now you're probably thinking \"let's set it to fifty million #amirite?\" The best analogy for why this is a bad idea is golf. I'm a terrible golfist (is that right?) so I don't really know anything - but pretend you are trying to sink a shot (again sorry) but can only hit the ball the same distance every time. Easy right? Hit it the exact length from where you are to the hole! Done! Now pretend you don't know where the hole is but just know the general direction. Now the distance you choose actually matters. If it is too long a distance you'll miss the hole, and then when you hit it back you'll overshoot again. If the distance is too small then it will take forever to get there but for sure you'll eventually get it in. Basically you have to guess what the right distance per shot should be and then try it out. That is basically what the learning rate does for finding the \"hole in one\" for the right parameters (ok, I'm done with the golf stuff).\n",
    "\n",
    "Below there are three things that make this all work:\n",
    "1. **The Model** - this is the function we're making that takes in the digit vector and should return the right number\n",
    "2. **The Cost Function** (sometimes called the loss function). I know I promised I was done with golf but I lied. Remember how I said in our screwy golf game you knew the general direction of the hole? The cost function tells us the distance to the hole - when it's zero we're there! In actual scientific terms, the cost function tells us how bad the model is at getting the right answer. As we take shots you should see the cost function decreasing. If this does not happen then something is wrong. At this point I would change the shot distance (or `learning_rate`) to something smaller and try again. If that doesn't work maybe change the model!\n",
    "3. **The Optimizer** - this part is the bit that actually changes the model parameters. It has a sense for the direction we should be shooting and updates all of the internal numbers inside the model to find the best internal knobs to predict the right digits. In this case I am using the Binary Cross Entropy cost function because, well, I know it works. There are a ton of different cost functions you can choose from that fit a variety of different scenarios."
   ]
  },
  {
   "cell_type": "code",
   "execution_count": 89,
   "metadata": {},
   "outputs": [],
   "source": [
    "# criterion = nn.NLLLoss()\n",
    "# optimizer = optim.SGD(model.parameters(), lr=0.003, momentum=0.5)\n",
    "optimizer = torch.optim.Adam(model.parameters(), lr=learning_rate)"
   ]
  },
  {
   "cell_type": "markdown",
   "metadata": {},
   "source": [
    "I forgot to mention the whole `cuda` thing. GPUs speed this whole process up because this is basically all a big Matrix multiplcation problem in a `for` loop. PyTorch is great because you basically need to tell the model where to run (either on the CPU or using CUDA - which is a platform for moving computations to the GPU).\n",
    "\n",
    "Now for the learning part! The `dataloader`'s job is to iterate through the entire dataset (in this case 60,000 examples of digits and their corresponding label) but to take chunks of size `batch_size` of the data to process. This is another hyperparameter that needs to be chosen. `epochs` is the number of times we want to loop through the dataset in its entirety (again something we choose based upon how our experiment goes).\n",
    "\n",
    "A word on how long this takes - it takes a while."
   ]
  },
  {
   "cell_type": "markdown",
   "metadata": {},
   "source": [
    "# Train the model"
   ]
  },
  {
   "cell_type": "markdown",
   "metadata": {},
   "source": [
    "We'll:\n",
    "1. Record the start time of the training.\n",
    "2. Set the training epoch to 20.\n",
    "3. For each epoch, reset the running loss to 0, train the model then print the running loss after each epoch.\n",
    "4. Record the end time of the training. Display the duration by using the end training time minus start training time."
   ]
  },
  {
   "cell_type": "code",
   "execution_count": 90,
   "metadata": {},
   "outputs": [],
   "source": [
    "log_interval=10\n",
    "train_log = defaultdict(list)\n",
    "val_log = defaultdict(list)"
   ]
  },
  {
   "cell_type": "code",
   "execution_count": 91,
   "metadata": {},
   "outputs": [],
   "source": [
    "def train(model, device, train_loader, optimizer, epoch, log_interval):\n",
    "    model.train()\n",
    "    train_log = defaultdict(list)\n",
    "    t_log = time()\n",
    "    n_samples = 0\n",
    "    for batch_idx, (data, target) in enumerate(train_loader):\n",
    "        t0 = time()\n",
    "        data, target = data.to(device), target.to(device).long()\n",
    "        optimizer.zero_grad()\n",
    "        output = model(data)\n",
    "        loss = F.cross_entropy(output, target)\n",
    "        t1 = time()\n",
    "        loss.backward()\n",
    "        t2 = time()\n",
    "        optimizer.step()\n",
    "        t3 = time()\n",
    "        n_samples += data.shape[0]\n",
    "        if batch_idx % log_interval == 0:\n",
    "            pred = output.max(1, keepdim=True)[1]\n",
    "            correct = pred.eq(target.view_as(pred)).sum().item()\n",
    "\n",
    "            train_log['n_iter'].append(epoch * len(train_loader) + batch_idx + 1)\n",
    "            train_log['n_samples'].append(n_samples + (epoch - 1) * len(train_loader.dataset))\n",
    "            train_log['loss'].append(loss.detach())\n",
    "            train_log['accuracy'].append(100. * correct / data.shape[0])\n",
    "            train_log['time_batch'].append(t3 - t0)\n",
    "            train_log['time_batch_forward'].append(t1 - t0)\n",
    "            train_log['time_batch_backward'].append(t2 - t1)\n",
    "            train_log['time_batch_update'].append(t3 - t2)\n",
    "            t4 = time()\n",
    "            train_log['time_batch_avg'].append((t4 - t_log) / log_interval)\n",
    "            print(\n",
    "                'Train Epochs: {} [{:5d}/{:5d} ({:3.0f}%)]'\n",
    "                '\\tLoss: {:.6f}'\n",
    "                '\\tTime: {:.4f}ms/batch'.format(\n",
    "                    epoch, n_samples, len(train_loader.dataset),\n",
    "                    100. * (batch_idx + 1) / len(train_loader), loss.item(),\n",
    "                    1000 * (t4 - t_log) / log_interval,\n",
    "                )\n",
    "            )\n",
    "            t_log = time()\n",
    "    return train_log"
   ]
  },
  {
   "cell_type": "markdown",
   "metadata": {},
   "source": [
    "# Test the model\n",
    "The operations of these codes are:\n",
    "1. Initialize the variables “correct_count” and “all_count” for accuracy calculation.\n",
    "2. Load the test images, feed the images into the well-trained model and get the outputs.\n",
    "3. Compare the outputs’ label with the original label. It will be counted as a correct prediction if output label is same with original label for each test image.\n",
    "4. Display the accuracy score of the model. The accuracy of this model is 95%."
   ]
  },
  {
   "cell_type": "code",
   "execution_count": 92,
   "metadata": {},
   "outputs": [],
   "source": [
    "def test(model, device, test_loader, log_interval):\n",
    "    model.eval()\n",
    "    test_loss = 0\n",
    "    correct = 0\n",
    "    preds = []\n",
    "    targets = []\n",
    "    num_batches = 0\n",
    "    with torch.no_grad():\n",
    "        for data, target in test_loader:\n",
    "            num_batches += 1\n",
    "            data, target = data.to(device), target.to(device).long()\n",
    "            output = model(data)\n",
    "            test_loss += F.cross_entropy(output, target, reduction='sum').item()\n",
    "            pred = output.max(1, keepdim=True)[1]\n",
    "            correct += pred.eq(target.view_as(pred)).sum().item()\n",
    "            preds.append(pred.cpu().numpy())\n",
    "            targets.append(target.cpu().numpy())\n",
    "    \n",
    "    # Remove list nesting\n",
    "    preds = np.concatenate(preds).squeeze()\n",
    "    targets = np.concatenate(targets).squeeze()\n",
    "\n",
    "    test_loss /= len(test_loader.dataset)\n",
    "    accuracy = 100. * correct / len(test_loader.dataset)\n",
    "    print('\\nTest set: Average loss: {:.4f}, Accuracy: {}/{} ({:.3f}%)\\n'\n",
    "        ''.format(\n",
    "            test_loss,\n",
    "            correct, len(test_loader.dataset), accuracy,\n",
    "            )\n",
    "        )\n",
    "    return test_loss, accuracy"
   ]
  },
  {
   "cell_type": "code",
   "execution_count": 93,
   "metadata": {},
   "outputs": [
    {
     "name": "stdout",
     "output_type": "stream",
     "text": [
      "Train Epochs: 5 [   64/60000 (  0%)]\tLoss: 2.302522\tTime: 240.1015ms/batch\n",
      "Train Epochs: 5 [  704/60000 (  1%)]\tLoss: 2.297966\tTime: 20.0000ms/batch\n",
      "Train Epochs: 5 [ 1344/60000 (  2%)]\tLoss: 2.282789\tTime: 17.2031ms/batch\n",
      "Train Epochs: 5 [ 1984/60000 (  3%)]\tLoss: 2.231839\tTime: 16.1030ms/batch\n",
      "Train Epochs: 5 [ 2624/60000 (  4%)]\tLoss: 2.179097\tTime: 16.7023ms/batch\n",
      "Train Epochs: 5 [ 3264/60000 (  5%)]\tLoss: 2.063345\tTime: 16.4001ms/batch\n",
      "Train Epochs: 5 [ 3904/60000 (  7%)]\tLoss: 1.972827\tTime: 15.9031ms/batch\n",
      "Train Epochs: 5 [ 4544/60000 (  8%)]\tLoss: 1.926532\tTime: 15.9030ms/batch\n",
      "Train Epochs: 5 [ 5184/60000 (  9%)]\tLoss: 1.956479\tTime: 16.8019ms/batch\n",
      "Train Epochs: 5 [ 5824/60000 ( 10%)]\tLoss: 1.954803\tTime: 15.8030ms/batch\n",
      "Train Epochs: 5 [ 6464/60000 ( 11%)]\tLoss: 1.923585\tTime: 16.2030ms/batch\n",
      "Train Epochs: 5 [ 7104/60000 ( 12%)]\tLoss: 1.775416\tTime: 16.2030ms/batch\n",
      "Train Epochs: 5 [ 7744/60000 ( 13%)]\tLoss: 1.968318\tTime: 16.5071ms/batch\n",
      "Train Epochs: 5 [ 8384/60000 ( 14%)]\tLoss: 1.726695\tTime: 15.9029ms/batch\n",
      "Train Epochs: 5 [ 9024/60000 ( 15%)]\tLoss: 1.861771\tTime: 16.1030ms/batch\n",
      "Train Epochs: 5 [ 9664/60000 ( 16%)]\tLoss: 1.887317\tTime: 16.1029ms/batch\n",
      "Train Epochs: 5 [10304/60000 ( 17%)]\tLoss: 1.780617\tTime: 15.9031ms/batch\n",
      "Train Epochs: 5 [10944/60000 ( 18%)]\tLoss: 1.640175\tTime: 16.2030ms/batch\n",
      "Train Epochs: 5 [11584/60000 ( 19%)]\tLoss: 1.825078\tTime: 16.2032ms/batch\n",
      "Train Epochs: 5 [12224/60000 ( 20%)]\tLoss: 1.782438\tTime: 15.9030ms/batch\n",
      "Train Epochs: 5 [12864/60000 ( 21%)]\tLoss: 1.771895\tTime: 15.9031ms/batch\n",
      "Train Epochs: 5 [13504/60000 ( 22%)]\tLoss: 1.869847\tTime: 16.0030ms/batch\n",
      "Train Epochs: 5 [14144/60000 ( 24%)]\tLoss: 1.767598\tTime: 16.2506ms/batch\n",
      "Train Epochs: 5 [14784/60000 ( 25%)]\tLoss: 1.804054\tTime: 16.5030ms/batch\n",
      "Train Epochs: 5 [15424/60000 ( 26%)]\tLoss: 1.751638\tTime: 16.2002ms/batch\n",
      "Train Epochs: 5 [16064/60000 ( 27%)]\tLoss: 1.717144\tTime: 15.9030ms/batch\n",
      "Train Epochs: 5 [16704/60000 ( 28%)]\tLoss: 1.626745\tTime: 16.0030ms/batch\n",
      "Train Epochs: 5 [17344/60000 ( 29%)]\tLoss: 1.719802\tTime: 16.1750ms/batch\n",
      "Train Epochs: 5 [17984/60000 ( 30%)]\tLoss: 1.677093\tTime: 15.7877ms/batch\n",
      "Train Epochs: 5 [18624/60000 ( 31%)]\tLoss: 1.648985\tTime: 15.8000ms/batch\n",
      "Train Epochs: 5 [19264/60000 ( 32%)]\tLoss: 1.716023\tTime: 15.8535ms/batch\n",
      "Train Epochs: 5 [19904/60000 ( 33%)]\tLoss: 1.664663\tTime: 16.5030ms/batch\n",
      "Train Epochs: 5 [20544/60000 ( 34%)]\tLoss: 1.698400\tTime: 16.4015ms/batch\n",
      "Train Epochs: 5 [21184/60000 ( 35%)]\tLoss: 1.708443\tTime: 20.2001ms/batch\n",
      "Train Epochs: 5 [21824/60000 ( 36%)]\tLoss: 1.709315\tTime: 23.2988ms/batch\n",
      "Train Epochs: 5 [22464/60000 ( 37%)]\tLoss: 1.645741\tTime: 24.3025ms/batch\n",
      "Train Epochs: 5 [23104/60000 ( 38%)]\tLoss: 1.643532\tTime: 23.8966ms/batch\n",
      "Train Epochs: 5 [23744/60000 ( 40%)]\tLoss: 1.687751\tTime: 23.5028ms/batch\n",
      "Train Epochs: 5 [24384/60000 ( 41%)]\tLoss: 1.688341\tTime: 24.9998ms/batch\n",
      "Train Epochs: 5 [25024/60000 ( 42%)]\tLoss: 1.657798\tTime: 21.3032ms/batch\n",
      "Train Epochs: 5 [25664/60000 ( 43%)]\tLoss: 1.688135\tTime: 19.6027ms/batch\n",
      "Train Epochs: 5 [26304/60000 ( 44%)]\tLoss: 1.672800\tTime: 17.0004ms/batch\n",
      "Train Epochs: 5 [26944/60000 ( 45%)]\tLoss: 1.631879\tTime: 17.0035ms/batch\n",
      "Train Epochs: 5 [27584/60000 ( 46%)]\tLoss: 1.678868\tTime: 16.8030ms/batch\n",
      "Train Epochs: 5 [28224/60000 ( 47%)]\tLoss: 1.582066\tTime: 15.8015ms/batch\n",
      "Train Epochs: 5 [28864/60000 ( 48%)]\tLoss: 1.621461\tTime: 16.2002ms/batch\n",
      "Train Epochs: 5 [29504/60000 ( 49%)]\tLoss: 1.654098\tTime: 15.9025ms/batch\n",
      "Train Epochs: 5 [30144/60000 ( 50%)]\tLoss: 1.585395\tTime: 18.5000ms/batch\n",
      "Train Epochs: 5 [30784/60000 ( 51%)]\tLoss: 1.637779\tTime: 21.8034ms/batch\n",
      "Train Epochs: 5 [31424/60000 ( 52%)]\tLoss: 1.657299\tTime: 21.1013ms/batch\n",
      "Train Epochs: 5 [32064/60000 ( 53%)]\tLoss: 1.618912\tTime: 22.3013ms/batch\n",
      "Train Epochs: 5 [32704/60000 ( 54%)]\tLoss: 1.682432\tTime: 21.1020ms/batch\n",
      "Train Epochs: 5 [33344/60000 ( 56%)]\tLoss: 1.557035\tTime: 16.7028ms/batch\n",
      "Train Epochs: 5 [33984/60000 ( 57%)]\tLoss: 1.583293\tTime: 16.8058ms/batch\n",
      "Train Epochs: 5 [34624/60000 ( 58%)]\tLoss: 1.633206\tTime: 16.2030ms/batch\n",
      "Train Epochs: 5 [35264/60000 ( 59%)]\tLoss: 1.605718\tTime: 15.9000ms/batch\n",
      "Train Epochs: 5 [35904/60000 ( 60%)]\tLoss: 1.615140\tTime: 16.4031ms/batch\n",
      "Train Epochs: 5 [36544/60000 ( 61%)]\tLoss: 1.666907\tTime: 16.5488ms/batch\n",
      "Train Epochs: 5 [37184/60000 ( 62%)]\tLoss: 1.566517\tTime: 15.8030ms/batch\n",
      "Train Epochs: 5 [37824/60000 ( 63%)]\tLoss: 1.641462\tTime: 16.5000ms/batch\n",
      "Train Epochs: 5 [38464/60000 ( 64%)]\tLoss: 1.635115\tTime: 16.6031ms/batch\n",
      "Train Epochs: 5 [39104/60000 ( 65%)]\tLoss: 1.620477\tTime: 15.9030ms/batch\n",
      "Train Epochs: 5 [39744/60000 ( 66%)]\tLoss: 1.640260\tTime: 15.9029ms/batch\n",
      "Train Epochs: 5 [40384/60000 ( 67%)]\tLoss: 1.600327\tTime: 16.1000ms/batch\n",
      "Train Epochs: 5 [41024/60000 ( 68%)]\tLoss: 1.596727\tTime: 16.2031ms/batch\n",
      "Train Epochs: 5 [41664/60000 ( 69%)]\tLoss: 1.577342\tTime: 15.8030ms/batch\n",
      "Train Epochs: 5 [42304/60000 ( 70%)]\tLoss: 1.648123\tTime: 15.9034ms/batch\n",
      "Train Epochs: 5 [42944/60000 ( 72%)]\tLoss: 1.609715\tTime: 15.7030ms/batch\n",
      "Train Epochs: 5 [43584/60000 ( 73%)]\tLoss: 1.609981\tTime: 15.8031ms/batch\n",
      "Train Epochs: 5 [44224/60000 ( 74%)]\tLoss: 1.548023\tTime: 16.8030ms/batch\n",
      "Train Epochs: 5 [44864/60000 ( 75%)]\tLoss: 1.613710\tTime: 16.1002ms/batch\n",
      "Train Epochs: 5 [45504/60000 ( 76%)]\tLoss: 1.624995\tTime: 16.6030ms/batch\n",
      "Train Epochs: 5 [46144/60000 ( 77%)]\tLoss: 1.605977\tTime: 15.7030ms/batch\n",
      "Train Epochs: 5 [46784/60000 ( 78%)]\tLoss: 1.586146\tTime: 16.0030ms/batch\n",
      "Train Epochs: 5 [47424/60000 ( 79%)]\tLoss: 1.592971\tTime: 16.1030ms/batch\n",
      "Train Epochs: 5 [48064/60000 ( 80%)]\tLoss: 1.554902\tTime: 16.8031ms/batch\n",
      "Train Epochs: 5 [48704/60000 ( 81%)]\tLoss: 1.613254\tTime: 15.5010ms/batch\n",
      "Train Epochs: 5 [49344/60000 ( 82%)]\tLoss: 1.579119\tTime: 15.7030ms/batch\n",
      "Train Epochs: 5 [49984/60000 ( 83%)]\tLoss: 1.556592\tTime: 15.6030ms/batch\n",
      "Train Epochs: 5 [50624/60000 ( 84%)]\tLoss: 1.569582\tTime: 16.5024ms/batch\n",
      "Train Epochs: 5 [51264/60000 ( 85%)]\tLoss: 1.598954\tTime: 16.3030ms/batch\n",
      "Train Epochs: 5 [51904/60000 ( 86%)]\tLoss: 1.651030\tTime: 16.1028ms/batch\n",
      "Train Epochs: 5 [52544/60000 ( 88%)]\tLoss: 1.611573\tTime: 16.8031ms/batch\n",
      "Train Epochs: 5 [53184/60000 ( 89%)]\tLoss: 1.614424\tTime: 16.9030ms/batch\n",
      "Train Epochs: 5 [53824/60000 ( 90%)]\tLoss: 1.510123\tTime: 16.0031ms/batch\n",
      "Train Epochs: 5 [54464/60000 ( 91%)]\tLoss: 1.611899\tTime: 16.3031ms/batch\n",
      "Train Epochs: 5 [55104/60000 ( 92%)]\tLoss: 1.597738\tTime: 16.7020ms/batch\n",
      "Train Epochs: 5 [55744/60000 ( 93%)]\tLoss: 1.591558\tTime: 17.5585ms/batch\n",
      "Train Epochs: 5 [56384/60000 ( 94%)]\tLoss: 1.624600\tTime: 16.3013ms/batch\n",
      "Train Epochs: 5 [57024/60000 ( 95%)]\tLoss: 1.602792\tTime: 16.6042ms/batch\n",
      "Train Epochs: 5 [57664/60000 ( 96%)]\tLoss: 1.550178\tTime: 15.7029ms/batch\n",
      "Train Epochs: 5 [58304/60000 ( 97%)]\tLoss: 1.617510\tTime: 15.7036ms/batch\n",
      "Train Epochs: 5 [58944/60000 ( 98%)]\tLoss: 1.538394\tTime: 15.8031ms/batch\n",
      "Train Epochs: 5 [59584/60000 ( 99%)]\tLoss: 1.586270\tTime: 16.1026ms/batch\n",
      "\n",
      "Test set: Average loss: 1.5200, Accuracy: 9421/10000 (94.210%)\n",
      "\n"
     ]
    }
   ],
   "source": [
    "epoch_log = train(model, device, trainloader, optimizer, epochs, log_interval)\n",
    "for key, value in epoch_log.items():\n",
    "    train_log[key] += value\n",
    "val_loss, val_accuracy = test(model, device, testloader, log_interval)\n",
    "val_log['loss'].append(val_loss)\n",
    "val_log['accuracy'].append(val_accuracy)"
   ]
  },
  {
   "cell_type": "code",
   "execution_count": 99,
   "metadata": {},
   "outputs": [
    {
     "name": "stdout",
     "output_type": "stream",
     "text": [
      "torch.Size([10, 1, 5, 5])\n",
      "Parameter containing:\n",
      "tensor([[[[-0.1699,  0.0414,  0.2918,  0.0517, -0.1569],\n",
      "          [-0.1959,  0.2539,  0.3796,  0.2204, -0.1364],\n",
      "          [ 0.2987,  0.4507,  0.0234, -0.1823, -0.3108],\n",
      "          [ 0.2888,  0.4483, -0.1856, -0.4108, -0.2163],\n",
      "          [ 0.3488,  0.2203,  0.0916, -0.0623,  0.0197]]],\n",
      "\n",
      "\n",
      "        [[[-0.0634, -0.2388, -0.1852, -0.1576, -0.1489],\n",
      "          [-0.1525, -0.1028, -0.1742, -0.1264, -0.3083],\n",
      "          [-0.2377, -0.2402, -0.1205, -0.2603, -0.2644],\n",
      "          [-0.0879, -0.1814, -0.2928, -0.1269, -0.1674],\n",
      "          [ 0.0223, -0.1056, -0.0646, -0.0459,  0.0759]]],\n",
      "\n",
      "\n",
      "        [[[-0.2624, -0.3196, -0.3305, -0.1615, -0.3198],\n",
      "          [-0.0221, -0.0673, -0.4137, -0.1216, -0.2547],\n",
      "          [ 0.2298, -0.1082, -0.1349, -0.1962, -0.1277],\n",
      "          [ 0.1290,  0.3818,  0.1026,  0.2193,  0.4721],\n",
      "          [ 0.2717,  0.1170,  0.4938,  0.4447,  0.1268]]],\n",
      "\n",
      "\n",
      "        [[[-0.1400, -0.0397, -0.2403, -0.0440, -0.2005],\n",
      "          [-0.2310, -0.1948, -0.2738, -0.3410, -0.3236],\n",
      "          [-0.0986,  0.0213, -0.2878, -0.0506, -0.3180],\n",
      "          [-0.1833, -0.1677, -0.0464, -0.1346, -0.0836],\n",
      "          [-0.0834, -0.0821, -0.1515,  0.0378, -0.0605]]],\n",
      "\n",
      "\n",
      "        [[[ 0.4042,  0.4214,  0.5299,  0.4928,  0.4902],\n",
      "          [ 0.2666,  0.1746, -0.0516,  0.3550,  0.0406],\n",
      "          [-0.3445, -0.4252, -0.3187, -0.2447, -0.1019],\n",
      "          [-0.4446, -0.1318, -0.1583, -0.1713, -0.1791],\n",
      "          [-0.2475, -0.1042, -0.0537, -0.0968, -0.2465]]],\n",
      "\n",
      "\n",
      "        [[[-0.1823, -0.0773, -0.0431, -0.1722, -0.1932],\n",
      "          [-0.2432, -0.1795, -0.1923, -0.1620, -0.0962],\n",
      "          [-0.2265, -0.2689, -0.3138, -0.2035, -0.2717],\n",
      "          [-0.2501, -0.2690, -0.3109, -0.3079, -0.1605],\n",
      "          [-0.0366, -0.2788, -0.1431,  0.0599, -0.0537]]],\n",
      "\n",
      "\n",
      "        [[[ 0.4036,  0.2043,  0.0995, -0.2412, -0.2820],\n",
      "          [ 0.3251, -0.1751, -0.2347, -0.2917, -0.2415],\n",
      "          [ 0.1056, -0.1301, -0.1166, -0.1552, -0.2374],\n",
      "          [ 0.1874, -0.1827, -0.1741, -0.3449, -0.0682],\n",
      "          [-0.1189,  0.0129, -0.1905, -0.1271,  0.0262]]],\n",
      "\n",
      "\n",
      "        [[[ 0.0158,  0.3041,  0.0155,  0.2039,  0.2540],\n",
      "          [-0.1149, -0.1036, -0.2498, -0.1783, -0.1711],\n",
      "          [-0.1732, -0.1424, -0.1022, -0.3184, -0.2849],\n",
      "          [-0.1237, -0.2391, -0.3123, -0.2747, -0.3631],\n",
      "          [ 0.0434, -0.0892, -0.2610, -0.3356, -0.3309]]],\n",
      "\n",
      "\n",
      "        [[[ 0.3536,  0.2552, -0.1590, -0.0060,  0.1009],\n",
      "          [ 0.0369,  0.2821, -0.2225, -0.2241, -0.1771],\n",
      "          [ 0.1331,  0.0252, -0.1681,  0.0008, -0.3141],\n",
      "          [-0.1327,  0.2343, -0.1259, -0.0055,  0.1324],\n",
      "          [-0.1595,  0.1567,  0.2317,  0.1732, -0.0249]]],\n",
      "\n",
      "\n",
      "        [[[ 0.2225,  0.0951,  0.0317, -0.2371, -0.0556],\n",
      "          [ 0.3450,  0.1651,  0.0455, -0.3576, -0.3206],\n",
      "          [ 0.4685, -0.0179,  0.0918, -0.3088, -0.1689],\n",
      "          [ 0.4748,  0.2242, -0.1778, -0.1592, -0.2691],\n",
      "          [ 0.2772,  0.2503,  0.1574, -0.0903, -0.0361]]]], device='cuda:0',\n",
      "       requires_grad=True)\n",
      "torch.Size([10])\n",
      "Parameter containing:\n",
      "tensor([ 0.1196, -0.1891,  0.1356, -0.0968,  0.1036,  0.0387,  0.1158, -0.1050,\n",
      "         0.2486,  0.3082], device='cuda:0', requires_grad=True)\n",
      "torch.Size([20, 10, 5, 5])\n",
      "Parameter containing:\n",
      "tensor([[[[-2.1296e-01, -1.1523e-01, -1.2847e-01, -7.8007e-02, -1.0911e-01],\n",
      "          [-1.2469e-01, -1.2566e-01, -2.2140e-02, -1.3921e-02, -1.2283e-02],\n",
      "          [ 1.4625e-02, -1.7767e-02,  9.1265e-02,  7.9326e-02, -8.2278e-02],\n",
      "          [ 8.8330e-02,  8.4632e-02,  3.7135e-03, -1.1134e-01, -1.5796e-01],\n",
      "          [-3.4488e-02, -8.1838e-02, -1.7516e-01, -1.2972e-01, -2.1309e-02]],\n",
      "\n",
      "         [[ 5.1410e-02,  9.8163e-02,  6.0050e-03,  1.1556e-02,  1.3308e-02],\n",
      "          [-1.9960e-02, -1.0147e-04,  1.1119e-02, -3.3151e-02,  3.5778e-02],\n",
      "          [-3.9499e-02,  2.8183e-02, -5.4101e-02, -7.2584e-02, -9.5949e-02],\n",
      "          [-5.9390e-02,  1.0211e-02, -6.2738e-02,  5.6964e-03, -4.6847e-02],\n",
      "          [-4.6460e-03, -3.0784e-02,  6.1841e-02, -7.6948e-03, -8.7815e-02]],\n",
      "\n",
      "         [[-2.4515e-02, -1.6974e-02, -6.7369e-03,  1.1265e-01, -3.9796e-03],\n",
      "          [ 8.8255e-02,  1.9537e-01,  2.1408e-01,  1.5457e-01,  9.6785e-02],\n",
      "          [ 2.1581e-01,  1.2392e-01,  8.0885e-02, -4.0607e-02, -1.7642e-02],\n",
      "          [ 1.0981e-01,  4.7165e-02, -2.5960e-02,  7.8967e-02,  1.0021e-01],\n",
      "          [-2.7037e-02,  7.3483e-03,  1.5881e-01,  8.4802e-02,  3.9226e-02]],\n",
      "\n",
      "         ...,\n",
      "\n",
      "         [[ 8.6434e-02, -1.0875e-02,  5.1790e-02,  1.6173e-02, -3.6971e-02],\n",
      "          [ 5.9212e-02, -5.7928e-02,  1.5890e-02, -6.3956e-02, -9.5359e-02],\n",
      "          [-1.3764e-02, -1.1541e-01,  3.4598e-03, -2.7527e-02, -3.8706e-02],\n",
      "          [-4.4022e-02,  8.2171e-03, -3.4199e-02,  4.3279e-02, -6.8814e-02],\n",
      "          [ 1.5533e-03,  2.8323e-02,  2.9004e-02,  6.3757e-02,  2.0538e-02]],\n",
      "\n",
      "         [[ 2.8341e-02, -6.1305e-02,  9.4097e-02,  1.3383e-02,  5.0312e-02],\n",
      "          [ 3.4610e-02,  1.2413e-01,  2.0624e-03,  6.7201e-03, -3.7118e-02],\n",
      "          [-8.6491e-02, -1.2380e-01, -4.4594e-02,  1.8225e-02,  6.0449e-02],\n",
      "          [ 3.7533e-03, -3.1139e-02,  2.5549e-02,  7.8600e-02, -4.8689e-02],\n",
      "          [ 1.0392e-01,  2.4711e-02,  9.9582e-02, -8.3436e-02, -1.3151e-01]],\n",
      "\n",
      "         [[-1.3251e-01, -8.6357e-02, -7.2406e-02,  8.1586e-03, -9.6043e-03],\n",
      "          [-3.1289e-02, -6.9252e-02, -6.3863e-02, -6.0749e-02,  9.1689e-03],\n",
      "          [-7.3817e-02, -1.2978e-01, -1.1618e-01, -1.1102e-01, -4.6426e-02],\n",
      "          [ 1.1860e-01,  4.5150e-03, -2.4570e-03, -8.3322e-02, -5.3990e-02],\n",
      "          [ 7.6412e-02,  4.2363e-02, -7.7149e-02, -1.1724e-01, -1.8284e-01]]],\n",
      "\n",
      "\n",
      "        [[[-1.0189e-01,  1.2958e-01,  7.7824e-02, -9.1656e-02, -2.8396e-02],\n",
      "          [ 2.1874e-02,  1.1181e-01,  5.9555e-02, -5.7021e-02,  1.2420e-02],\n",
      "          [ 2.1004e-02,  1.4144e-01,  3.1678e-02, -1.1499e-01,  8.2012e-02],\n",
      "          [ 5.0154e-02,  5.2976e-02, -2.4374e-02,  1.5403e-02,  1.7469e-01],\n",
      "          [ 7.1716e-02,  7.9046e-02,  4.2020e-02,  1.1358e-01,  1.1908e-01]],\n",
      "\n",
      "         [[-8.6080e-03,  1.4849e-03,  1.0636e-01,  6.8308e-02,  8.6318e-05],\n",
      "          [-5.0649e-02,  6.9721e-03,  3.1201e-03,  3.4909e-02,  1.2321e-02],\n",
      "          [ 4.5133e-02, -4.1854e-02,  6.1750e-02,  2.3575e-02,  1.7379e-02],\n",
      "          [ 1.6414e-02,  4.0384e-02,  2.4420e-02, -5.0447e-03,  1.5532e-02],\n",
      "          [-4.7533e-02, -2.5265e-02, -3.7054e-02, -8.5387e-02, -1.0430e-01]],\n",
      "\n",
      "         [[-8.6676e-02, -1.4083e-01, -1.2383e-01, -9.1213e-02,  7.8369e-02],\n",
      "          [-8.6625e-02, -1.0875e-01, -1.6835e-01, -1.1220e-01, -2.3825e-02],\n",
      "          [-1.3437e-01, -1.2402e-01, -3.8279e-02, -4.6088e-02, -2.4027e-02],\n",
      "          [-1.3298e-01, -4.9103e-02,  4.2253e-03,  4.6078e-02, -4.8553e-02],\n",
      "          [-1.2260e-01, -1.3358e-02,  9.5319e-02,  5.8877e-02, -3.3021e-02]],\n",
      "\n",
      "         ...,\n",
      "\n",
      "         [[-7.7227e-02,  6.1677e-02,  5.0900e-02,  6.0561e-02, -4.2065e-02],\n",
      "          [-6.7418e-02,  3.8567e-02,  9.2699e-04, -1.8025e-03, -2.6668e-02],\n",
      "          [-2.7204e-02,  5.1432e-02,  6.2408e-02, -4.2255e-02, -3.7823e-02],\n",
      "          [ 3.1592e-02, -5.5702e-02,  2.9705e-02, -1.0922e-02,  2.8033e-02],\n",
      "          [ 3.1777e-02, -4.3798e-02, -1.1774e-01, -7.1713e-02, -9.9403e-03]],\n",
      "\n",
      "         [[-5.8756e-02, -4.4487e-02,  3.0057e-02, -5.2362e-02, -4.1251e-02],\n",
      "          [-1.0212e-01,  7.5981e-03,  4.5858e-03, -1.5542e-01, -1.0669e-01],\n",
      "          [-9.1715e-02,  4.2399e-02,  3.5635e-02, -1.8729e-01, -5.9396e-02],\n",
      "          [-3.3127e-02,  1.1314e-01,  3.2940e-02, -1.8623e-01, -7.6140e-02],\n",
      "          [-7.5128e-02,  1.2131e-02, -6.3666e-02, -8.8693e-02,  8.4341e-02]],\n",
      "\n",
      "         [[ 3.8419e-02,  1.8818e-01,  1.7088e-01,  3.7121e-02, -5.3453e-02],\n",
      "          [ 1.7781e-03,  1.7457e-01,  1.3380e-01, -1.3745e-01, -6.9713e-02],\n",
      "          [ 7.9620e-02,  5.4137e-02,  1.1505e-02, -5.4899e-02, -4.0855e-02],\n",
      "          [ 9.2218e-02,  1.0585e-01,  6.9204e-03, -4.4921e-02, -3.7051e-04],\n",
      "          [ 8.3193e-02,  2.3681e-02,  8.9564e-02,  4.7790e-02,  8.0161e-02]]],\n",
      "\n",
      "\n",
      "        [[[-7.2490e-02,  2.5166e-03,  1.1736e-01,  1.9481e-02,  4.4097e-02],\n",
      "          [-5.8850e-02, -8.5865e-02, -4.2617e-02, -1.4397e-01, -6.8283e-02],\n",
      "          [-7.7176e-02, -1.6426e-01, -1.8192e-01, -2.5836e-01, -8.9263e-02],\n",
      "          [-7.9154e-02, -8.8746e-02, -1.3057e-01, -6.3847e-02, -4.9006e-02],\n",
      "          [-2.4666e-02, -1.3586e-02,  2.8112e-02, -2.5150e-02,  1.6595e-01]],\n",
      "\n",
      "         [[-2.5643e-02, -9.5959e-02, -3.3867e-02, -1.0074e-01, -7.8019e-02],\n",
      "          [-4.4891e-02, -6.9529e-03,  8.3205e-03, -3.4551e-02, -5.9687e-02],\n",
      "          [ 3.5769e-02,  9.5571e-02,  7.0777e-02,  6.4129e-02,  5.4315e-02],\n",
      "          [ 7.4632e-02,  1.2021e-01,  1.2538e-01,  9.9192e-02,  1.4363e-02],\n",
      "          [ 6.5183e-02,  1.1982e-02,  9.5162e-02, -7.5055e-03,  4.9218e-02]],\n",
      "\n",
      "         [[ 1.3845e-01,  8.8139e-02,  8.6925e-02,  5.5321e-03, -1.8545e-03],\n",
      "          [-9.5481e-02, -1.0023e-01, -5.0622e-02, -1.5304e-01, -2.1914e-01],\n",
      "          [ 2.7400e-02,  4.3446e-03, -7.8902e-02, -5.5210e-02, -1.5468e-01],\n",
      "          [ 2.1385e-01,  1.1280e-01,  3.7042e-02,  6.1626e-02, -5.4022e-02],\n",
      "          [ 1.0404e-01,  5.2197e-02,  1.5624e-01,  2.7451e-02, -1.0483e-01]],\n",
      "\n",
      "         ...,\n",
      "\n",
      "         [[-1.0674e-01, -5.1361e-02, -1.7148e-02, -1.4283e-01,  3.0078e-03],\n",
      "          [ 1.5005e-02,  9.9656e-03,  4.8655e-02,  6.6447e-02, -1.3862e-02],\n",
      "          [ 3.7545e-02,  1.0759e-01,  1.1414e-01,  6.1564e-02, -1.1829e-02],\n",
      "          [ 2.1417e-02,  1.1332e-01, -1.9988e-02,  6.0025e-02,  1.4640e-02],\n",
      "          [ 3.2112e-02,  5.8585e-03,  3.4450e-02, -8.2708e-02,  6.7291e-02]],\n",
      "\n",
      "         [[-3.3365e-02, -1.7196e-01, -9.0175e-02,  2.7359e-02,  8.0332e-02],\n",
      "          [ 3.2467e-02, -9.0236e-02,  8.9203e-02,  6.4883e-02,  4.8301e-02],\n",
      "          [ 1.6782e-02, -3.3670e-02, -3.2817e-02, -7.5133e-02, -5.8088e-02],\n",
      "          [-5.9414e-02, -1.2396e-01, -1.5569e-01, -1.2082e-01, -1.2941e-01],\n",
      "          [ 8.9911e-03, -6.5031e-02, -4.9076e-02, -6.8226e-02,  1.5072e-02]],\n",
      "\n",
      "         [[ 1.8002e-02,  2.3675e-04,  8.8505e-02,  3.9969e-02,  6.8230e-02],\n",
      "          [-8.6967e-02, -7.3693e-02, -2.8913e-02, -6.5312e-02, -2.8940e-02],\n",
      "          [ 4.2227e-02, -9.0205e-02, -1.8919e-01, -1.8189e-01, -1.0945e-01],\n",
      "          [-4.2061e-02, -1.8190e-02, -6.5779e-02, -1.1629e-01,  3.5956e-02],\n",
      "          [-4.0292e-02, -1.6663e-02, -3.5642e-03, -3.9633e-02,  1.2654e-01]]],\n",
      "\n",
      "\n",
      "        ...,\n",
      "\n",
      "\n",
      "        [[[-1.0084e-01, -1.5945e-02,  3.6910e-02,  6.1091e-02, -5.3894e-03],\n",
      "          [-1.2131e-01,  7.2952e-02,  8.7419e-02,  7.4902e-02,  2.7173e-02],\n",
      "          [ 5.3403e-02,  6.6040e-02,  5.9823e-02, -2.4686e-02, -6.0907e-02],\n",
      "          [-3.7324e-02,  1.1637e-01,  1.3581e-01, -1.5352e-02,  4.2514e-02],\n",
      "          [-1.1340e-01,  4.7608e-02,  1.1170e-01, -2.7014e-02,  4.7917e-02]],\n",
      "\n",
      "         [[ 5.1161e-02, -3.5524e-02,  6.6678e-02,  1.0319e-02, -2.3483e-02],\n",
      "          [ 3.0736e-02, -6.8465e-02, -2.5458e-02,  1.1318e-02,  8.5584e-02],\n",
      "          [-4.0230e-02, -7.8366e-02,  4.3533e-02,  1.0067e-02, -6.9352e-03],\n",
      "          [-8.0519e-02, -7.1628e-02, -5.5071e-02,  6.5712e-02, -1.4856e-03],\n",
      "          [ 2.0377e-02, -9.1244e-03, -7.1120e-02, -1.3397e-02, -7.4850e-02]],\n",
      "\n",
      "         [[-1.5943e-01, -8.4724e-02, -2.6729e-02, -1.3252e-01, -3.9481e-02],\n",
      "          [ 7.3731e-03, -3.6572e-02, -6.1569e-02, -8.1424e-02,  3.5019e-02],\n",
      "          [-3.9273e-02,  5.0927e-04,  9.5973e-03, -6.1763e-02, -1.1038e-02],\n",
      "          [-1.2197e-02,  6.4942e-03,  1.4183e-01,  8.8670e-02,  7.2549e-02],\n",
      "          [-1.7239e-01, -1.9898e-02,  6.9535e-02,  1.4837e-01,  1.8343e-01]],\n",
      "\n",
      "         ...,\n",
      "\n",
      "         [[ 1.8077e-02,  1.8059e-02, -4.2669e-02,  6.8707e-02,  6.5873e-02],\n",
      "          [-2.8533e-02, -1.0615e-01, -1.2754e-03,  2.2458e-02,  1.9923e-02],\n",
      "          [-8.1609e-02, -2.9611e-02,  1.5606e-02,  3.9640e-02,  3.8940e-02],\n",
      "          [-5.1189e-02, -1.8874e-04, -2.7311e-02, -2.9771e-02, -9.0825e-02],\n",
      "          [ 5.9941e-02, -8.3184e-02, -1.1332e-01, -4.3066e-02, -8.7637e-02]],\n",
      "\n",
      "         [[-7.0443e-02, -2.6889e-02, -3.9078e-02, -9.8615e-02,  4.3984e-02],\n",
      "          [-8.5978e-02, -4.0636e-03, -1.4533e-02, -8.2468e-02, -5.7728e-02],\n",
      "          [-1.2829e-01,  4.8732e-05,  4.3791e-02, -6.9404e-03,  1.6964e-02],\n",
      "          [-7.2303e-02,  1.1409e-01,  5.1648e-02,  3.8576e-02, -6.3796e-02],\n",
      "          [-6.9330e-02,  6.4076e-02,  9.7506e-02, -2.8993e-02, -3.4117e-02]],\n",
      "\n",
      "         [[-7.2305e-02,  7.7761e-02,  6.5961e-02,  1.7877e-02,  5.2819e-02],\n",
      "          [-5.5494e-02,  7.4691e-02,  1.2320e-01,  1.5259e-02, -2.3773e-02],\n",
      "          [ 2.7994e-02,  2.3434e-02,  1.0831e-01,  6.5794e-02, -6.4870e-02],\n",
      "          [ 3.2931e-02,  8.9131e-02,  1.7760e-01, -1.0204e-02, -1.8802e-02],\n",
      "          [-5.0616e-02,  1.6601e-02,  9.0813e-02,  2.0051e-02, -5.4247e-02]]],\n",
      "\n",
      "\n",
      "        [[[-7.1863e-02,  5.2834e-02,  3.1034e-02, -5.5321e-02,  1.9641e-02],\n",
      "          [ 5.7032e-02,  6.1167e-03,  8.9154e-02,  4.8450e-02,  5.1239e-02],\n",
      "          [-1.5552e-02, -3.2068e-02,  8.1429e-02,  1.1577e-01,  8.9209e-02],\n",
      "          [-6.0246e-02,  2.4984e-02,  2.3812e-02,  1.0714e-01,  7.1284e-02],\n",
      "          [-1.2646e-01, -1.0988e-01,  5.4628e-02,  1.3875e-02,  8.1069e-02]],\n",
      "\n",
      "         [[-9.7546e-03,  3.7445e-02,  8.1617e-02,  3.8694e-04,  7.3808e-02],\n",
      "          [-6.1809e-02, -1.2418e-01, -3.7904e-02,  4.3552e-02,  6.8847e-02],\n",
      "          [-1.0343e-01, -1.1002e-01, -3.4341e-02, -2.3838e-03,  2.4779e-02],\n",
      "          [ 4.3917e-03, -1.5098e-03, -1.6965e-01, -1.1247e-02, -1.7607e-02],\n",
      "          [ 3.9384e-03,  2.3578e-02, -3.6514e-02, -8.6011e-02, -8.3123e-02]],\n",
      "\n",
      "         [[ 1.7681e-01,  1.6169e-01,  4.1400e-02, -3.0838e-02, -1.0361e-01],\n",
      "          [-4.4703e-02,  5.9171e-02,  2.9878e-02,  2.0734e-02,  4.4790e-02],\n",
      "          [-1.7329e-01, -1.9078e-01,  5.9982e-02,  8.3073e-02,  1.8670e-02],\n",
      "          [-1.2092e-01, -1.0664e-01,  1.2251e-01,  9.7842e-02,  1.1347e-01],\n",
      "          [ 1.9365e-01,  6.2976e-02,  4.3516e-02,  9.4356e-02,  5.0876e-02]],\n",
      "\n",
      "         ...,\n",
      "\n",
      "         [[-5.3186e-02,  9.9371e-03,  2.4752e-02,  8.5834e-02,  1.2065e-01],\n",
      "          [-1.4361e-01, -1.5840e-01, -4.9717e-02,  1.5453e-02,  4.4933e-02],\n",
      "          [-1.3790e-02, -1.1067e-01, -7.8040e-02,  5.7644e-02, -5.3606e-02],\n",
      "          [ 1.0233e-02, -3.1050e-02, -1.0814e-01, -2.3084e-02,  2.6553e-02],\n",
      "          [ 8.0131e-02,  7.0191e-02,  1.9732e-02, -7.8407e-02, -6.3637e-02]],\n",
      "\n",
      "         [[ 5.7606e-02,  4.6288e-02, -1.4384e-02,  2.3973e-02,  6.8170e-02],\n",
      "          [-1.2618e-01, -2.0312e-02,  5.2567e-02,  6.5080e-02,  4.5798e-03],\n",
      "          [ 2.5685e-02,  7.3456e-02,  1.0126e-01,  7.6159e-02,  6.6861e-02],\n",
      "          [ 9.5826e-02,  3.7065e-02,  1.9106e-01,  1.6730e-01,  3.1743e-02],\n",
      "          [ 8.0429e-02, -6.4095e-02, -9.0497e-03,  5.0386e-02, -1.0656e-02]],\n",
      "\n",
      "         [[-1.2691e-02,  8.0021e-02,  1.0155e-01,  7.3718e-02,  6.0238e-02],\n",
      "          [-1.4572e-01,  6.2270e-02,  1.8046e-01,  1.0779e-01,  1.5684e-02],\n",
      "          [-2.8015e-02, -4.4381e-02,  1.3826e-01,  1.6763e-01,  1.4257e-01],\n",
      "          [-3.6274e-02, -1.6930e-01,  1.2669e-01,  7.2290e-02,  9.5468e-02],\n",
      "          [-8.9537e-02, -1.4866e-01,  2.6519e-02,  1.7416e-02, -3.0924e-02]]],\n",
      "\n",
      "\n",
      "        [[[-8.6800e-03, -4.1210e-02, -1.2591e-01,  4.8430e-02,  1.9298e-01],\n",
      "          [-5.6550e-02, -1.9172e-01, -2.1415e-02,  1.8159e-01,  1.8119e-01],\n",
      "          [-6.6875e-03,  6.5319e-02,  2.0624e-01,  6.0155e-02, -1.6494e-02],\n",
      "          [ 6.7419e-02,  9.1557e-02,  5.3276e-02, -1.8139e-01, -2.0887e-01],\n",
      "          [ 3.1320e-02, -3.5291e-02, -1.0179e-01, -5.4208e-02, -1.2752e-01]],\n",
      "\n",
      "         [[-3.3059e-02,  3.0617e-02, -6.3349e-02, -6.3914e-02, -7.5905e-02],\n",
      "          [-4.5954e-02, -6.5920e-03, -6.6184e-02, -1.0826e-01,  2.4739e-02],\n",
      "          [-6.4912e-02, -9.2454e-02, -5.7252e-02, -9.1471e-02,  2.3498e-02],\n",
      "          [-5.9081e-02, -5.2612e-02, -2.4521e-02,  2.0399e-02,  6.1022e-02],\n",
      "          [ 1.6731e-02,  2.0700e-02,  1.9251e-02,  4.5032e-02,  1.2583e-01]],\n",
      "\n",
      "         [[-1.7365e-01, -1.0492e-01, -4.2621e-02, -6.1872e-02,  4.2522e-02],\n",
      "          [ 4.1242e-02,  1.1564e-01,  6.2673e-02, -5.4768e-02, -1.7051e-02],\n",
      "          [ 1.3688e-01,  1.0965e-01, -2.7670e-02, -6.0165e-02, -3.6979e-03],\n",
      "          [ 4.3008e-03, -1.4044e-01, -1.2901e-01, -1.4571e-03, -7.8216e-02],\n",
      "          [-2.0710e-01, -7.0168e-02,  1.9734e-02,  2.3581e-02,  1.9403e-03]],\n",
      "\n",
      "         ...,\n",
      "\n",
      "         [[-1.1551e-02,  5.3595e-02, -5.6397e-02, -8.4822e-02, -2.2760e-02],\n",
      "          [ 6.9170e-02, -4.0249e-02, -7.7863e-02,  1.4601e-03,  2.7776e-02],\n",
      "          [-1.2462e-01, -1.6127e-01, -6.2173e-03,  2.7737e-02,  3.7341e-02],\n",
      "          [-8.4521e-02,  3.7860e-03,  1.8753e-02,  1.3173e-01,  1.1375e-01],\n",
      "          [-1.8739e-03,  5.1742e-02,  8.3925e-02,  9.5313e-03,  7.6359e-02]],\n",
      "\n",
      "         [[-3.5156e-02,  2.2571e-02, -8.7477e-02, -7.4955e-02,  1.6611e-01],\n",
      "          [ 1.0585e-01,  1.0849e-01, -6.7651e-02, -1.3784e-02,  7.5738e-02],\n",
      "          [-3.8847e-02, -2.7655e-01, -4.5354e-02,  9.0042e-02,  1.1045e-01],\n",
      "          [-6.3922e-02, -3.7735e-02,  1.3408e-01,  1.3787e-01,  5.9036e-02],\n",
      "          [ 1.8951e-01,  1.6951e-01,  2.4616e-02,  4.8317e-02,  3.6760e-03]],\n",
      "\n",
      "         [[-3.6190e-02, -1.8240e-02, -1.2803e-01, -4.7897e-02,  2.0228e-01],\n",
      "          [-3.3954e-02, -1.6153e-01, -1.1322e-01,  2.0031e-02,  1.0126e-01],\n",
      "          [-8.0046e-02, -1.5129e-01, -1.6336e-02,  4.3053e-02,  1.5958e-02],\n",
      "          [ 1.1671e-02,  3.8694e-02,  8.9952e-02, -5.8921e-02, -6.3521e-02],\n",
      "          [ 2.8955e-02,  2.2342e-02,  3.7149e-02,  2.5152e-03, -6.8771e-02]]]],\n"
     ]
    },
    {
     "name": "stdout",
     "output_type": "stream",
     "text": [
      "       device='cuda:0', requires_grad=True)\n",
      "torch.Size([20])\n",
      "Parameter containing:\n",
      "tensor([-0.0436, -0.0555,  0.0226,  0.0225, -0.0385, -0.0078, -0.0646, -0.0253,\n",
      "        -0.0045, -0.0341,  0.0593,  0.0315,  0.0466, -0.0472, -0.0450,  0.0846,\n",
      "         0.0266,  0.0606,  0.0288,  0.0063], device='cuda:0',\n",
      "       requires_grad=True)\n",
      "torch.Size([50, 320])\n",
      "Parameter containing:\n",
      "tensor([[ 0.1363,  0.1242,  0.1294,  ..., -0.0744,  0.0105,  0.0062],\n",
      "        [ 0.0195, -0.0053, -0.0917,  ...,  0.0572, -0.0655,  0.0185],\n",
      "        [ 0.0327,  0.0182,  0.0311,  ..., -0.0246,  0.0212,  0.0004],\n",
      "        ...,\n",
      "        [-0.1193, -0.0639, -0.0907,  ...,  0.0049,  0.0516,  0.0199],\n",
      "        [ 0.0299,  0.0860,  0.0078,  ...,  0.0561, -0.0199, -0.1153],\n",
      "        [ 0.0274,  0.0093,  0.0213,  ..., -0.0343,  0.0603,  0.0841]],\n",
      "       device='cuda:0', requires_grad=True)\n",
      "torch.Size([50])\n",
      "Parameter containing:\n",
      "tensor([ 0.0612,  0.0457,  0.0104, -0.0130, -0.0432, -0.0248,  0.0781,  0.0790,\n",
      "         0.0492, -0.0746,  0.0051,  0.0061, -0.0022,  0.0342,  0.0881, -0.0417,\n",
      "        -0.0003, -0.0367,  0.0215, -0.0443, -0.0216,  0.0145, -0.0824,  0.0293,\n",
      "        -0.0255,  0.0292,  0.0229,  0.0823, -0.0108, -0.0506,  0.0229, -0.0157,\n",
      "         0.0405,  0.0302,  0.0489,  0.0098, -0.0159,  0.0036,  0.0962,  0.0852,\n",
      "         0.0199,  0.0570, -0.0288,  0.0413,  0.0144, -0.0050,  0.0104,  0.0026,\n",
      "         0.0135,  0.0513], device='cuda:0', requires_grad=True)\n",
      "torch.Size([10, 50])\n",
      "Parameter containing:\n",
      "tensor([[ 0.1418, -0.1343,  0.1527, -0.1881, -0.1148, -0.0663,  0.0817,  0.0332,\n",
      "         -0.2815, -0.1818,  0.1363, -0.2176, -0.2030, -0.2030, -0.2568,  0.0302,\n",
      "         -0.0322, -0.0824, -0.0260, -0.0037, -0.1723,  0.1567, -0.0703,  0.1142,\n",
      "          0.1224, -0.0891,  0.1246, -0.1382, -0.1789,  0.1652, -0.2354, -0.2221,\n",
      "         -0.1110, -0.2375, -0.1315,  0.0736,  0.0143,  0.1387, -0.0851,  0.0972,\n",
      "         -0.0061, -0.2345, -0.0761, -0.2190, -0.1560, -0.1423,  0.1531, -0.2214,\n",
      "         -0.1092,  0.1678],\n",
      "        [-0.1993,  0.1276, -0.1833, -0.1252, -0.0924,  0.1199,  0.0867,  0.1866,\n",
      "          0.0324, -0.1937, -0.1318,  0.1109, -0.0645,  0.0146,  0.1577, -0.1625,\n",
      "         -0.1730, -0.0850,  0.1162,  0.0862, -0.1879, -0.1853, -0.0898, -0.0427,\n",
      "         -0.2201, -0.0101,  0.0601,  0.1169,  0.0578, -0.2286,  0.1017,  0.0943,\n",
      "         -0.1189,  0.0271, -0.2422, -0.3019,  0.1866, -0.0052,  0.0814, -0.0326,\n",
      "         -0.0793,  0.1535, -0.1883,  0.0910,  0.2040, -0.1629,  0.0692, -0.0672,\n",
      "         -0.1666,  0.0174],\n",
      "        [ 0.0316,  0.1819,  0.0846, -0.0071,  0.0970,  0.1120,  0.0770,  0.0337,\n",
      "         -0.0269,  0.0983,  0.0889,  0.1279,  0.0115, -0.2562, -0.1640, -0.1122,\n",
      "          0.0311, -0.1640, -0.1628, -0.0097, -0.1497,  0.1659, -0.1457, -0.1260,\n",
      "          0.1219, -0.2443, -0.1016, -0.1728,  0.1641,  0.0711, -0.0814, -0.0696,\n",
      "         -0.1455, -0.2320, -0.0802, -0.0394, -0.0586, -0.1071, -0.2029, -0.0934,\n",
      "         -0.0062,  0.1207,  0.1378,  0.1392, -0.0283, -0.1275,  0.1037, -0.1520,\n",
      "          0.1026, -0.0758],\n",
      "        [ 0.0995, -0.1449, -0.1623,  0.0867, -0.0906,  0.0367,  0.0836, -0.1977,\n",
      "          0.0933, -0.0349, -0.1841,  0.2273,  0.1973,  0.1221, -0.1239, -0.1626,\n",
      "          0.0563,  0.0268, -0.0464, -0.0511, -0.2080, -0.1720, -0.0505,  0.1567,\n",
      "          0.0475, -0.1606, -0.1069,  0.0129,  0.2086, -0.1108, -0.1899, -0.1668,\n",
      "          0.1396,  0.1027, -0.1822, -0.1559,  0.0214, -0.1471, -0.0440, -0.2388,\n",
      "         -0.0645, -0.0082,  0.0534, -0.1018, -0.1464, -0.0770,  0.1355,  0.0079,\n",
      "         -0.0422,  0.0853],\n",
      "        [-0.2540, -0.0681, -0.0428, -0.1064,  0.0484, -0.1236, -0.2133,  0.1497,\n",
      "          0.0873,  0.1330,  0.0967, -0.1142, -0.0642,  0.1040,  0.1291,  0.0595,\n",
      "         -0.1719, -0.1336, -0.0940, -0.0498,  0.1160, -0.0257,  0.0418, -0.1919,\n",
      "         -0.1936,  0.0272, -0.1450,  0.1309,  0.1139,  0.0959, -0.1806, -0.0152,\n",
      "          0.1264,  0.0584,  0.1565,  0.1416, -0.0763, -0.1555, -0.1248,  0.0262,\n",
      "         -0.1337, -0.1996, -0.1354, -0.1493, -0.1148,  0.1015, -0.0854,  0.1094,\n",
      "         -0.0127, -0.2560],\n",
      "        [ 0.1126, -0.2134, -0.0927, -0.1037,  0.0213, -0.1914,  0.0750, -0.1936,\n",
      "         -0.0122, -0.1118, -0.1163, -0.0216,  0.0988,  0.1361, -0.0934,  0.0980,\n",
      "          0.1755,  0.1689, -0.0404,  0.0486,  0.1721, -0.0946, -0.1521,  0.1318,\n",
      "         -0.0130,  0.0909, -0.1436,  0.0087, -0.0486, -0.0698, -0.2318, -0.1842,\n",
      "          0.1343, -0.0177, -0.1260,  0.1279,  0.0264,  0.1156,  0.1181, -0.0233,\n",
      "         -0.1104, -0.2504, -0.2423, -0.1439,  0.0909, -0.2101,  0.0201, -0.0343,\n",
      "         -0.1650,  0.0359],\n",
      "        [-0.0186, -0.0107, -0.2395, -0.2788,  0.0907,  0.0337,  0.0606,  0.0690,\n",
      "         -0.1447, -0.1147,  0.1088, -0.1631, -0.1262, -0.1890, -0.0130, -0.2541,\n",
      "          0.0707,  0.1186, -0.3156, -0.1164,  0.1275,  0.1104,  0.0132, -0.0585,\n",
      "         -0.2762,  0.0564,  0.0697, -0.1934,  0.1169,  0.0952, -0.2548, -0.1875,\n",
      "          0.1790, -0.2412,  0.1095,  0.1062,  0.0919,  0.1040,  0.0666,  0.0013,\n",
      "         -0.0726, -0.1570, -0.1175,  0.1081, -0.0296, -0.0986,  0.0053,  0.1408,\n",
      "         -0.3000, -0.0262],\n",
      "        [ 0.0955,  0.0128,  0.1497,  0.0268, -0.2778, -0.0714, -0.0943, -0.0288,\n",
      "         -0.2716,  0.0475, -0.2463, -0.0903,  0.1612, -0.1135, -0.1953,  0.1502,\n",
      "         -0.1694, -0.1252,  0.1651, -0.0321,  0.0111,  0.0148, -0.0398, -0.0809,\n",
      "          0.0367,  0.0227, -0.1920,  0.1178, -0.1009, -0.1254,  0.1220,  0.1752,\n",
      "         -0.1630,  0.0862, -0.2371, -0.0247, -0.1294,  0.0507, -0.2362, -0.2598,\n",
      "          0.0042,  0.0740,  0.1327, -0.1808, -0.1686,  0.1082, -0.0137, -0.1358,\n",
      "          0.1057,  0.1187],\n",
      "        [ 0.1252, -0.0585, -0.1222,  0.1290,  0.1287,  0.1155,  0.1016, -0.1557,\n",
      "         -0.1006, -0.1549, -0.2362, -0.0726, -0.0460,  0.0862,  0.0008, -0.0718,\n",
      "          0.0091, -0.1963, -0.1235, -0.0840,  0.1090, -0.1551, -0.1510, -0.0329,\n",
      "          0.1366,  0.1360, -0.1906,  0.0252, -0.0165, -0.0341, -0.2162, -0.0013,\n",
      "         -0.0909,  0.0326, -0.0596,  0.0958, -0.1299, -0.0944,  0.0617,  0.1315,\n",
      "          0.0385,  0.0918, -0.1616,  0.1417, -0.0075, -0.1266, -0.1598, -0.1859,\n",
      "         -0.1062, -0.1372],\n",
      "        [ 0.0950, -0.2313, -0.1363,  0.0449, -0.1722, -0.2186, -0.1902, -0.2203,\n",
      "          0.0698,  0.1007, -0.0101, -0.0833,  0.1795,  0.1245,  0.0824,  0.1028,\n",
      "         -0.0019, -0.1190,  0.0958, -0.0139,  0.1543,  0.0371, -0.0080, -0.0683,\n",
      "          0.0329,  0.0510, -0.2294,  0.1068, -0.1907,  0.0125, -0.0525,  0.1722,\n",
      "         -0.0998,  0.0459,  0.1474,  0.1380, -0.1207, -0.2444, -0.0178,  0.0027,\n",
      "         -0.0940, -0.1746, -0.1847, -0.2628, -0.1069,  0.1177, -0.2929, -0.1437,\n",
      "          0.0895, -0.1799]], device='cuda:0', requires_grad=True)\n",
      "torch.Size([10])\n",
      "Parameter containing:\n",
      "tensor([ 0.0196,  0.2015, -0.0731, -0.0277,  0.0240, -0.0991, -0.1054, -0.1649,\n",
      "         0.1705,  0.1203], device='cuda:0', requires_grad=True)\n"
     ]
    }
   ],
   "source": [
    "for p in model.parameters():\n",
    "    print(p.shape)\n",
    "    print(p)"
   ]
  },
  {
   "cell_type": "markdown",
   "metadata": {},
   "source": [
    "# Is it working???\n",
    "The best way to figure out if it is working is to test the model on data the learning process hasn't used. Luckily we have such a dataset (it is basically a held out section of the data we already have used). I'm loading it all up the same way as before and printing them out to show you that they're different."
   ]
  },
  {
   "cell_type": "code",
   "execution_count": 95,
   "metadata": {},
   "outputs": [],
   "source": [
    "def collapse_nested_list(l):\n",
    "    return [a for b in l for a in b]\n",
    "\n",
    "def plot_training_log(train_log, val_log):\n",
    "    #xx_train = np.arange(0, len(train_log['loss']), 1 / len(train_log['loss'][0]))\n",
    "    xx_train = np.array(train_log['n_samples']) / 1000\n",
    "    n_epoch = len(val_log['loss'])\n",
    "    xx_val = np.arange(1, n_epoch + 1) * xx_train[-1] / n_epoch\n",
    "    \n",
    "    plt.plot(xx_train, train_log['loss'], 'b')\n",
    "    # We prepend the first train loss score so there are enough datapoints to plot\n",
    "    # a line, even with a single epoch.\n",
    "    plt.plot(np.concatenate([[0], xx_val]), [train_log['loss'][0]] + val_log['loss'], 'ro-')\n",
    "    plt.title('Loss (lower is better)')\n",
    "    plt.xlabel('Number of samples presented (1000s)')\n",
    "    plt.ylabel('Cross-Entropy Loss')\n",
    "    plt.show()\n",
    "    \n",
    "    plt.plot(xx_train, train_log['accuracy'], 'b')\n",
    "    plt.plot(np.concatenate([[0], xx_val]), [train_log['accuracy'][0]] + val_log['accuracy'], 'ro-')\n",
    "    plt.title('Accuracy (higher is better)')\n",
    "    plt.xlabel('Number of samples presented (1000s)')\n",
    "    plt.ylabel('Accuracy (%)')\n",
    "    plt.show()\n",
    "    \n",
    "    if n_epoch > 1:\n",
    "        plt.plot(xx_train, train_log['accuracy'], 'b')\n",
    "        plt.plot(np.concatenate([[0], xx_val]), [10] + val_log['accuracy'], 'ro-')\n",
    "        plt.ylim([90, 100])\n",
    "        plt.title('Accuracy, zoomed in')\n",
    "        plt.xlabel('Number of samples presented (1000s)')\n",
    "        plt.ylabel('Accuracy (%)')\n",
    "        plt.show()\n",
    "    \n",
    "    plt.plot(xx_train, 1000 * np.array(train_log['time_batch_avg']), 'b')\n",
    "    plt.title('Training speed (lower is better)')\n",
    "    plt.xlabel('Number of samples presented (1000s)')\n",
    "    plt.ylabel('Duration per batch (ms)')\n",
    "    plt.show()"
   ]
  },
  {
   "cell_type": "code",
   "execution_count": 96,
   "metadata": {},
   "outputs": [
    {
     "data": {
      "image/png": "[encoded data removed]",
      "text/plain": [
       "<Figure size 432x288 with 1 Axes>"
      ]
     },
     "metadata": {
      "needs_background": "light"
     },
     "output_type": "display_data"
    },
    {
     "data": {
      "image/png": "[encoded data removed]",
      "text/plain": [
       "<Figure size 432x288 with 1 Axes>"
      ]
     },
     "metadata": {
      "needs_background": "light"
     },
     "output_type": "display_data"
    },
    {
     "data": {
      "image/png": "[encoded data removed]",
      "text/plain": [
       "<Figure size 432x288 with 1 Axes>"
      ]
     },
     "metadata": {
      "needs_background": "light"
     },
     "output_type": "display_data"
    }
   ],
   "source": [
    "plot_training_log(train_log, val_log)"
   ]
  },
  {
   "cell_type": "markdown",
   "metadata": {},
   "source": [
    "# Output Visualization"
   ]
  },
  {
   "cell_type": "markdown",
   "metadata": {},
   "source": [
    "Let's see how well we do over *all* of the test data!"
   ]
  },
  {
   "cell_type": "code",
   "execution_count": 100,
   "metadata": {},
   "outputs": [
    {
     "data": {
      "image/png": "[encoded data removed]",
      "text/plain": [
       "<Figure size 720x1440 with 10 Axes>"
      ]
     },
     "metadata": {
      "needs_background": "light"
     },
     "output_type": "display_data"
    }
   ],
   "source": [
    "images, labels = next(iter(testloader))\n",
    "if not no_cuda:\n",
    "    images = images.to(device)\n",
    "fig=plt.figure(figsize=(10, 20))\n",
    "for i in range (0, 10, 2):\n",
    "    img1 = images[i].view(1, 784)\n",
    "    img2 = images[i+1].view(1, 784)\n",
    "    with torch.no_grad():\n",
    "        if not no_cuda:\n",
    "            input = Variable(img1)\n",
    "            input = input.to(device)\n",
    "            output = model(input)\n",
    "            index = output.data.cpu().numpy().argmax()\n",
    "            fig.add_subplot(5, 2, i+1)\n",
    "            plt.imshow(img1.resize_(1, 28, 28).data.cpu().numpy().squeeze())\n",
    "            plt.title(\"Predicted Digit = {}\".format(index))\n",
    "            input = Variable(img2)\n",
    "            input = input.to(device)\n",
    "            output = model(input)\n",
    "            index = output.data.cpu().numpy().argmax()\n",
    "            fig.add_subplot(5, 2, i+2)\n",
    "            plt.imshow(img2.resize_(1, 28, 28).data.cpu().numpy().squeeze())\n",
    "            plt.title(\"Predicted Digit = {}\".format(index))\n",
    "        else:\n",
    "            logps = model(img1)\n",
    "            ps = torch.exp(logps)\n",
    "            probab = list(ps.numpy()[0])\n",
    "            fig.add_subplot(5, 2, i+1)\n",
    "            plt.imshow(img1.resize_(1, 28, 28).numpy().squeeze())\n",
    "            plt.title(\"Predicted Digit = {}\".format(probab.index(max(probab))))\n",
    "            logps = model(img2)\n",
    "            ps = torch.exp(logps)\n",
    "            probab = list(ps.numpy()[0])\n",
    "            fig.add_subplot(5, 2, i+2)\n",
    "            plt.imshow(img2.resize_(1, 28, 28).numpy().squeeze())\n",
    "            plt.title(\"Predicted Digit = {}\".format(probab.index(max(probab))))"
   ]
  },
  {
   "cell_type": "markdown",
   "metadata": {},
   "source": [
    "# Saving the Model\n",
    "Every framework is different - in this case PyTorch let's us save the model (which you remember is just a big matrix `W` and a vector `b`) to an internal format as well as to the ONNX format. These can then be loaded up as an asset to a program that is executed every time you need to recognize a digit!"
   ]
  },
  {
   "cell_type": "code",
   "execution_count": 98,
   "metadata": {},
   "outputs": [
    {
     "name": "stdout",
     "output_type": "stream",
     "text": [
      "Saved onnx model to model.onnx\n",
      "Saved PyTorch Model to model.pth\n"
     ]
    }
   ],
   "source": [
    "if not no_cuda:\n",
    "    x = torch.randint(255, (1, 28*28), dtype=torch.float).to(device) / 255\n",
    "else:\n",
    "    x = torch.randint(255, (1, 28*28), dtype=torch.float) / 255\n",
    "onnx.export(model, x, 'model.onnx')\n",
    "print('Saved onnx model to model.onnx')\n",
    "\n",
    "torch.save(model.state_dict(), 'model.pth')\n",
    "print('Saved PyTorch Model to model.pth')"
   ]
  },
  {
   "cell_type": "markdown",
   "metadata": {},
   "source": [
    "### What is ONNX?\n",
    "ONNX is an open format to represent deep learning models. With ONNX, AI developers can more easily move models between state-of-the-art tools and choose the combination that is best for them. ONNX is developed and supported by a community of partners.\n",
    "https://onnx.ai/"
   ]
  },
  {
   "cell_type": "markdown",
   "metadata": {},
   "source": [
    "# Play!\n",
    "Now that you've gone through the whole process, please go back up to play around! Try changing:\n",
    "1. The actual model! The other models are almost identical with the exception that they learn additional Matrices (W's and b's) that the images pass through to get the final answer.\n",
    "2. The hyperparameters like `learning_rate`, `batch_size`, and `epoch`. Does it make things better or worse? 92% is ok, does any other combination of model's and hyperparamters fare better?\n",
    "\n",
    "## Final Thoughts\n",
    "Would love your feedback! Was this helpful? Any parts confusing? Drop me a line!"
   ]
  },
  {
   "cell_type": "code",
   "execution_count": null,
   "metadata": {},
   "outputs": [],
   "source": []
  }
 ],
 "metadata": {
  "kernelspec": {
   "display_name": "Lab02",
   "language": "python",
   "name": "lab02"
  },
  "language_info": {
   "codemirror_mode": {
    "name": "ipython",
    "version": 3
   },
   "file_extension": ".py",
   "mimetype": "text/x-python",
   "name": "python",
   "nbconvert_exporter": "python",
   "pygments_lexer": "ipython3",
   "version": "3.5.6"
  }
 },
 "nbformat": 4,
 "nbformat_minor": 2
}
